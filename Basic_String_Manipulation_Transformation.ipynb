{
  "cells": [
    {
      "cell_type": "markdown",
      "metadata": {
        "id": "view-in-github",
        "colab_type": "text"
      },
      "source": [
        "<a href=\"https://colab.research.google.com/github/abhilas0/pyspark-trasformation-practice/blob/main/Basic_String_Manipulation_Transformation.ipynb\" target=\"_parent\"><img src=\"https://colab.research.google.com/assets/colab-badge.svg\" alt=\"Open In Colab\"/></a>"
      ]
    },
    {
      "cell_type": "markdown",
      "source": [
        "<span style=\"color:orange\">\n",
        " <h2> Basic String Manipulation Transformation </h2>"
      ],
      "metadata": {
        "application/vnd.databricks.v1+cell": {
          "showTitle": false,
          "cellMetadata": {},
          "nuid": "db75cd47-6817-4c6d-9dd4-ebd8f0ef5557",
          "inputWidgets": {},
          "title": ""
        },
        "id": "Ko9lz90KniUq"
      }
    },
    {
      "cell_type": "code",
      "source": [
        "from google.colab import drive\n",
        "drive.mount('/content/drive')"
      ],
      "metadata": {
        "colab": {
          "base_uri": "https://localhost:8080/"
        },
        "id": "dpnNTw7gnmb3",
        "outputId": "7180bf42-88de-451e-b2a1-163b326a2593"
      },
      "execution_count": 1,
      "outputs": [
        {
          "output_type": "stream",
          "name": "stdout",
          "text": [
            "Mounted at /content/drive\n"
          ]
        }
      ]
    },
    {
      "cell_type": "code",
      "source": [
        "# install pyspark\n",
        "\n",
        "!pip install pyspark"
      ],
      "metadata": {
        "colab": {
          "base_uri": "https://localhost:8080/"
        },
        "id": "JTi3cKHHnzn2",
        "outputId": "541d1574-cfc9-442e-a045-8c8cc6756f1b"
      },
      "execution_count": 2,
      "outputs": [
        {
          "output_type": "stream",
          "name": "stdout",
          "text": [
            "Collecting pyspark\n",
            "  Downloading pyspark-3.5.1.tar.gz (317.0 MB)\n",
            "\u001b[2K     \u001b[90m━━━━━━━━━━━━━━━━━━━━━━━━━━━━━━━━━━━━━━━━\u001b[0m \u001b[32m317.0/317.0 MB\u001b[0m \u001b[31m4.2 MB/s\u001b[0m eta \u001b[36m0:00:00\u001b[0m\n",
            "\u001b[?25h  Preparing metadata (setup.py) ... \u001b[?25l\u001b[?25hdone\n",
            "Requirement already satisfied: py4j==0.10.9.7 in /usr/local/lib/python3.10/dist-packages (from pyspark) (0.10.9.7)\n",
            "Building wheels for collected packages: pyspark\n",
            "  Building wheel for pyspark (setup.py) ... \u001b[?25l\u001b[?25hdone\n",
            "  Created wheel for pyspark: filename=pyspark-3.5.1-py2.py3-none-any.whl size=317488490 sha256=5ce3ae3613643cf22978e844f2cd366df46b4eaf8277107707c780437499a980\n",
            "  Stored in directory: /root/.cache/pip/wheels/80/1d/60/2c256ed38dddce2fdd93be545214a63e02fbd8d74fb0b7f3a6\n",
            "Successfully built pyspark\n",
            "Installing collected packages: pyspark\n",
            "Successfully installed pyspark-3.5.1\n"
          ]
        }
      ]
    },
    {
      "cell_type": "code",
      "source": [
        "# start pyspark session\n",
        "\n",
        "from pyspark.sql import SparkSession\n",
        "\n",
        "spark = SparkSession.builder.appName(\"Basic_string_maupulation\").getOrCreate()"
      ],
      "metadata": {
        "id": "JDLdqgrno9AE"
      },
      "execution_count": null,
      "outputs": []
    },
    {
      "cell_type": "code",
      "source": [
        "# read the employee csv file\n",
        "\n",
        "df = spark.read.csv(\"/content/drive/MyDrive/DE Data/EmployeeData.csv\", header=True, inferSchema=True)\n",
        "df.show()"
      ],
      "metadata": {
        "colab": {
          "base_uri": "https://localhost:8080/"
        },
        "id": "USgRkwDjo-Nr",
        "outputId": "dc8063f7-81b8-4897-ce17-a2092205eacc"
      },
      "execution_count": 5,
      "outputs": [
        {
          "output_type": "stream",
          "name": "stdout",
          "text": [
            "+---+----------+---------+--------------------+------+------+-------------------+--------+\n",
            "| id|first_name|last_name|               email|gender|salary|       creationDate|   bonus|\n",
            "+---+----------+---------+--------------------+------+------+-------------------+--------+\n",
            "|  1|    Valene|   Ingley|vingley0@livejour...|Female| 44104|1957-09-09 16:44:40|    NULL|\n",
            "|  2|  Lynnelle|    Hurll| lhurll1@answers.com|Female|112411|1907-05-10 17:38:56|    NULL|\n",
            "|  3|   Miranda|    Train|   mtrain2@imgur.com|Female| 91073|1941-01-24 16:05:23|12875.54|\n",
            "|  4|    Dulsea|     Foss|dfoss3@dagondesig...|Female|193291|1942-05-09 20:59:39|    NULL|\n",
            "|  5|    Anatol|  Dunklee| adunklee4@google.de|  Male| 22175|1950-07-26 16:28:00| 1432.12|\n",
            "|  6|     Baily|   Antony| bantony5@sfgate.com|  Male|127337|1913-10-14 11:25:33|    NULL|\n",
            "|  7|    Eunice|   Cardus|ecardus6@scientif...|Female|136574|1901-11-02 15:09:47|38676.94|\n",
            "|  8|  Aubrette|  Lippett| alippett7@nifty.com|Female|165713|1919-12-16 08:20:42|60150.66|\n",
            "|  9|   Sibylla|Sickamore|ssickamore8@faceb...|Female|107243|2020-03-15 15:00:30|    NULL|\n",
            "| 10|      NULL|   Altree|paltree9@dropbox.com|Female|197594|1975-06-21 23:27:12|72533.37|\n",
            "| 11|      Coop|    Richt|   crichta@sogou.com|  Male| 19964|1939-02-13 16:18:24|56973.41|\n",
            "| 12|  Giuseppe|  Scimoni|gscimonib@craigsl...|  Male|176531|1967-04-06 07:23:03|    NULL|\n",
            "| 13|    Lovell|  Iorizzo|liorizzoc@cpanel.net|  Male|189150|1949-06-06 16:25:20| 41474.8|\n",
            "| 14|       Deb|    Mogra|   dmograd@bbc.co.uk|Female|197829|1997-07-27 14:55:52|46528.57|\n",
            "| 15|  Hastings| Jelliman|hjellimane@histat...|  Male|179296|1915-07-05 07:02:06|80194.64|\n",
            "| 16|     Josee|   Burnep|    jburnepf@php.net|  NULL| 78569|1923-11-08 20:59:14|88925.13|\n",
            "| 17|     Gilly|   Fownes|gfownesg@redcross...|Female|  2527|1946-07-30 21:10:57|    NULL|\n",
            "| 18|      NULL|Schruyers|lschruyersh@desde...|  Male|109936|1979-06-16 01:12:48|37243.09|\n",
            "| 19|     Maris|Chatelain| mchatelaini@unc.edu|Female|190047|2008-01-11 17:16:21|76469.65|\n",
            "| 20|    Casper|  Aughtie|    caughtiej@vk.com|  Male| 38689|1982-04-06 05:13:49| 80404.8|\n",
            "+---+----------+---------+--------------------+------+------+-------------------+--------+\n",
            "only showing top 20 rows\n",
            "\n"
          ]
        }
      ]
    },
    {
      "cell_type": "markdown",
      "source": [
        "<b> How many employees have a first name that starts with the letter 'J'?"
      ],
      "metadata": {
        "application/vnd.databricks.v1+cell": {
          "showTitle": false,
          "cellMetadata": {},
          "nuid": "25e9ad6b-bde3-4895-9c87-ac282e88a982",
          "inputWidgets": {},
          "title": ""
        },
        "id": "HHJuclOkniUs"
      }
    },
    {
      "cell_type": "code",
      "source": [
        "# Write your code using the Spark Function\n",
        "# import all fiunctions\n",
        "from pyspark.sql.functions import *\n",
        "\n",
        "# count the names starts with J\n",
        "df1 = df.filter(col(\"first_name\").startswith(\"J\")).count()\n",
        "print(\"Count of first name starts with J : \", df1)\n",
        "\n",
        "# list of first name starts with j\n",
        "\n",
        "df2 = df.filter(col(\"first_name\").startswith(\"J\"))\n",
        "df2.show()"
      ],
      "metadata": {
        "application/vnd.databricks.v1+cell": {
          "showTitle": false,
          "cellMetadata": {},
          "nuid": "56f1ba90-25b6-4792-8a37-6fcc36ef1d81",
          "inputWidgets": {},
          "title": ""
        },
        "colab": {
          "base_uri": "https://localhost:8080/"
        },
        "id": "8xWTJrTaniUs",
        "outputId": "281f3716-977e-411e-9a18-1f4f326de366"
      },
      "outputs": [
        {
          "output_type": "stream",
          "name": "stdout",
          "text": [
            "Count of first name starts with J :  43\n",
            "+----+----------+---------+--------------------+------+------+-------------------+--------+\n",
            "|  id|first_name|last_name|               email|gender|salary|       creationDate|   bonus|\n",
            "+----+----------+---------+--------------------+------+------+-------------------+--------+\n",
            "|  16|     Josee|   Burnep|    jburnepf@php.net|  NULL| 78569|1923-11-08 20:59:14|88925.13|\n",
            "|  53|  Jermaine| Clayborn|jclayborn1g@oakle...|Female| 20034|1901-06-02 00:16:24|86427.24|\n",
            "|NULL|       Joe|   Kilbee|jkilbee1w@dedecms...|  Male|147066|1912-10-21 01:47:26|63886.43|\n",
            "|  78|   Jillian|  Chasmar|                NULL|Female| 18805|2019-01-07 02:06:41|93412.65|\n",
            "|  98|    Joella|  Edmunds|jedmunds2p@dropbo...|Female| 49283|1994-06-09 17:34:15|94776.88|\n",
            "| 153|     Jozef|   Drewes|jdrewes48@wikispa...|  Male| 16803|1949-04-30 12:53:34|54789.31|\n",
            "| 163|   Jeffrey|   Sugars|                NULL|  Male|112937|1978-08-15 19:03:34|92001.92|\n",
            "| 169|    Jamesy|    Gilby|                NULL|  Male|153493|1971-01-28 04:00:18|27030.09|\n",
            "| 185|     Jocko|Boyington|jboyington54@chro...|  Male|112842|               NULL|21712.37|\n",
            "| 196|    Jeanne|   Rearie|jrearie5f@marriot...|Female|104483|2011-04-16 15:51:52|    NULL|\n",
            "| 202|     Junia|Petrovsky|jpetrovsky5l@cdc.gov|Female| 76268|1993-10-02 03:32:57|12547.89|\n",
            "| 279|    Joeann|  Stenner|jstenner7q@google.cn|Female| 61864|1939-05-18 16:17:25| 64712.2|\n",
            "| 285|     Jolie|    Deble|                NULL|Female|  NULL|1959-01-15 15:25:03|93432.65|\n",
            "| 325|    Jaymie|  Vasyaev|jvasyaev90@sogou.com|  Male|192701|1934-10-27 23:35:56|11892.54|\n",
            "| 364|     Judye| Kezourec|                NULL|Female|105711|1910-12-08 02:48:25| 51707.8|\n",
            "| 374|      Jess|  Vittori| jvittoriad@xing.com|  Male| 16961|               NULL|77784.07|\n",
            "| 378|   Justinn|  Attwell|jattwellah@earthl...|Female| 71279|1901-04-07 15:31:34|    NULL|\n",
            "| 395| Josephine|     Boyn|                NULL|Female| 76887|               NULL|    NULL|\n",
            "| 413|    Jemmie| Radbourn|jradbournbg@dropb...|Female|  NULL|               NULL|    NULL|\n",
            "| 441|  Jeniffer|   Lounds|jloundsc8@sbwire.com|Female|162628|               NULL|95485.89|\n",
            "+----+----------+---------+--------------------+------+------+-------------------+--------+\n",
            "only showing top 20 rows\n",
            "\n"
          ]
        }
      ],
      "execution_count": 15
    },
    {
      "cell_type": "markdown",
      "source": [
        "<b> How many employees have a last name that ends with the letter 's'?"
      ],
      "metadata": {
        "application/vnd.databricks.v1+cell": {
          "showTitle": false,
          "cellMetadata": {},
          "nuid": "c416d4b2-c6e9-4807-b508-0329e5a694f6",
          "inputWidgets": {},
          "title": ""
        },
        "id": "CXVZ7pOzniUt"
      }
    },
    {
      "cell_type": "code",
      "source": [
        "# Write your code using the Spark Function\n",
        "\n",
        "# count the names end with s\n",
        "df3 = df.filter(col(\"last_name\").endswith(\"s\")).count()\n",
        "print(\"Count of last name  with ends s : \", df3)\n",
        "\n",
        "# list of last name ends with s\n",
        "\n",
        "df4 = df.filter(col(\"last_name\").endswith(\"s\"))\n",
        "df4.show()"
      ],
      "metadata": {
        "application/vnd.databricks.v1+cell": {
          "showTitle": false,
          "cellMetadata": {},
          "nuid": "bfae43d0-e5d3-4824-ba2e-9fd87aefe779",
          "inputWidgets": {},
          "title": ""
        },
        "colab": {
          "base_uri": "https://localhost:8080/"
        },
        "id": "KNr7wwvJniUt",
        "outputId": "81698cdb-c7a4-41db-a2cc-ca0b7ee47bfe"
      },
      "outputs": [
        {
          "output_type": "stream",
          "name": "stdout",
          "text": [
            "Count of last name  with ends s :  81\n",
            "+---+----------+---------+--------------------+------+------+-------------------+--------+\n",
            "| id|first_name|last_name|               email|gender|salary|       creationDate|   bonus|\n",
            "+---+----------+---------+--------------------+------+------+-------------------+--------+\n",
            "|  4|    Dulsea|     Foss|dfoss3@dagondesig...|Female|193291|1942-05-09 20:59:39|    NULL|\n",
            "|  7|    Eunice|   Cardus|ecardus6@scientif...|Female|136574|1901-11-02 15:09:47|38676.94|\n",
            "| 17|     Gilly|   Fownes|gfownesg@redcross...|Female|  2527|1946-07-30 21:10:57|    NULL|\n",
            "| 18|      NULL|Schruyers|lschruyersh@desde...|  Male|109936|1979-06-16 01:12:48|37243.09|\n",
            "| 24|   Sharity|   Fronks|sfronksn@economis...|Female|169527|1951-06-14 19:32:49| 4960.71|\n",
            "| 98|    Joella|  Edmunds|jedmunds2p@dropbo...|Female| 49283|1994-06-09 17:34:15|94776.88|\n",
            "|106| Willamina|   Tipens|wtipens2x@studiop...|Female|101895|1985-07-31 17:00:39|49591.52|\n",
            "|116|      NULL|    Jados|                NULL|  Male| 56578|2002-05-29 06:33:36|    NULL|\n",
            "|117|     Chase|    Jacks| cjacks38@sbwire.com|  Male|135930|1949-01-30 07:05:06|27557.84|\n",
            "|118|  Karalynn|   Scones| kscones39@weibo.com|Female|180007|               NULL|    NULL|\n",
            "|126|     Tessy|   Vokins|tvokins3h@eepurl.com|Female| 71771|1981-11-08 22:43:34|17657.58|\n",
            "|130|     Eldon|   Faires|    efaires3l@w3.org|  Male|153915|1955-08-14 02:10:16|30667.89|\n",
            "|142|       Erv|   Griggs|                NULL|  Male|144655|2007-11-09 22:05:38| 95251.8|\n",
            "|153|     Jozef|   Drewes|jdrewes48@wikispa...|  Male| 16803|1949-04-30 12:53:34|54789.31|\n",
            "|163|   Jeffrey|   Sugars|                NULL|  Male|112937|1978-08-15 19:03:34|92001.92|\n",
            "|182|  Tremayne|    Beers|  tbeers51@imgur.com|  NULL|182456|1914-02-11 19:36:47|    NULL|\n",
            "|197|     April|   Wyllis|awyllis5g@simplem...|Female|169845|               NULL|95643.86|\n",
            "|203|      Gaye|  Huggens|ghuggens5m@topsy.com|Female|197613|               NULL|33193.37|\n",
            "|219|  Whitaker|   Fookes|wfookes62@network...|  Male|169323|1912-01-25 08:11:22|    NULL|\n",
            "|233| Ekaterina| Garretts|egarretts6g@livej...|Female|113027|1930-05-04 23:50:55| 71893.5|\n",
            "+---+----------+---------+--------------------+------+------+-------------------+--------+\n",
            "only showing top 20 rows\n",
            "\n"
          ]
        }
      ],
      "execution_count": 18
    },
    {
      "cell_type": "markdown",
      "source": [
        "<b> What is the length of the longest first name?"
      ],
      "metadata": {
        "application/vnd.databricks.v1+cell": {
          "showTitle": false,
          "cellMetadata": {},
          "nuid": "646c4286-10d1-44ea-9f41-1e37e2b60067",
          "inputWidgets": {},
          "title": ""
        },
        "id": "5elytQxpniUu"
      }
    },
    {
      "cell_type": "code",
      "source": [
        "# Write your code using the Spark Function\n",
        "\n",
        "# calculate length of each first name\n",
        "df_name_length = df.withColumn(\"name_length\",length(col(\"first_name\")))\n",
        "\n",
        "# Find the maximum length first name\n",
        "longest_name_length = df_name_length.select(max(\"name_length\")).collect()[0][0]\n",
        "print(\"Length of the longest first name:\", longest_name_length)\n",
        "\n",
        "\n"
      ],
      "metadata": {
        "colab": {
          "base_uri": "https://localhost:8080/"
        },
        "id": "7ChXHVXit8Mp",
        "outputId": "b7770cdf-3817-4f21-fe4a-f210dd22d0ee"
      },
      "execution_count": 35,
      "outputs": [
        {
          "output_type": "stream",
          "name": "stdout",
          "text": [
            "Length of the longest first name: 15\n"
          ]
        }
      ]
    },
    {
      "cell_type": "markdown",
      "source": [
        "<b> What is the length of the shortest last name?"
      ],
      "metadata": {
        "application/vnd.databricks.v1+cell": {
          "showTitle": false,
          "cellMetadata": {},
          "nuid": "0b163ff1-2e94-4df4-a16b-35e2df20206a",
          "inputWidgets": {},
          "title": ""
        },
        "id": "zLQh8HSbniUu"
      }
    },
    {
      "cell_type": "code",
      "source": [
        "# Write your code using the Spark Function\n",
        "\n",
        "# Find the minimum length first name\n",
        "shortest_name_length = df_name_length.select(min(\"name_length\")).collect()[0][0]\n",
        "print(\"Length of the shortest first name:\", shortest_name_length)"
      ],
      "metadata": {
        "application/vnd.databricks.v1+cell": {
          "showTitle": false,
          "cellMetadata": {},
          "nuid": "9146750b-cabd-436f-ba86-9aa5b252a40e",
          "inputWidgets": {},
          "title": ""
        },
        "colab": {
          "base_uri": "https://localhost:8080/"
        },
        "id": "fAOiQmaQniUu",
        "outputId": "2ee4fbb6-2a7c-4a71-ec9f-2418552533d3"
      },
      "outputs": [
        {
          "output_type": "stream",
          "name": "stdout",
          "text": [
            "Length of the shortest first name: 2\n"
          ]
        }
      ],
      "execution_count": 36
    },
    {
      "cell_type": "markdown",
      "source": [
        "<b> What is the email domain of the employee with the highest salary?"
      ],
      "metadata": {
        "application/vnd.databricks.v1+cell": {
          "showTitle": false,
          "cellMetadata": {},
          "nuid": "c2561678-6fb8-4fde-bcfc-b1bc80056067",
          "inputWidgets": {},
          "title": ""
        },
        "id": "7_rx92RUniUv"
      }
    },
    {
      "cell_type": "code",
      "source": [
        "# Write your code using the Spark Function\n",
        "\n",
        "df5 = df.orderBy(col(\"salary\").desc()).limit(1).select(\"email\",\"Salary\")\n",
        "df5.show()"
      ],
      "metadata": {
        "application/vnd.databricks.v1+cell": {
          "showTitle": false,
          "cellMetadata": {},
          "nuid": "abb5d5cd-f2ea-492d-a4e9-0e084a10f28d",
          "inputWidgets": {},
          "title": ""
        },
        "colab": {
          "base_uri": "https://localhost:8080/"
        },
        "id": "uNhDerLtniUv",
        "outputId": "1fc0e47b-92b4-455d-dd79-29b58d3e02cf"
      },
      "outputs": [
        {
          "output_type": "stream",
          "name": "stdout",
          "text": [
            "+--------------------+------+\n",
            "|               email|Salary|\n",
            "+--------------------+------+\n",
            "|ahanbridger3@webs...|199846|\n",
            "+--------------------+------+\n",
            "\n"
          ]
        }
      ],
      "execution_count": 44
    },
    {
      "cell_type": "markdown",
      "source": [
        "<b> What is the first name of the employee with the email address that contains the substring 'hr'?"
      ],
      "metadata": {
        "application/vnd.databricks.v1+cell": {
          "showTitle": false,
          "cellMetadata": {},
          "nuid": "0e683047-d545-4618-a65c-a5b2ec2de6bb",
          "inputWidgets": {},
          "title": ""
        },
        "id": "MQW_ap4lniUv"
      }
    },
    {
      "cell_type": "code",
      "source": [
        "# Write your code using the Spark Function\n",
        "\n",
        "df6 = df.filter(col(\"email\").contains(\"hr\")).select(\"first_name\",\"email\")\n",
        "df6.show()"
      ],
      "metadata": {
        "application/vnd.databricks.v1+cell": {
          "showTitle": false,
          "cellMetadata": {},
          "nuid": "766eb7bc-197b-4cf8-bd0e-fe92ec8cc18f",
          "inputWidgets": {},
          "title": ""
        },
        "colab": {
          "base_uri": "https://localhost:8080/"
        },
        "id": "JLHtH-iHniUv",
        "outputId": "14d0421b-3060-4eca-937f-018c32a4e324"
      },
      "outputs": [
        {
          "output_type": "stream",
          "name": "stdout",
          "text": [
            "+----------+--------------------+\n",
            "|first_name|               email|\n",
            "+----------+--------------------+\n",
            "|      NULL|lschruyersh@desde...|\n",
            "|    Averil|arobottham1e@chro...|\n",
            "|     Jocko|jboyington54@chro...|\n",
            "|      NULL|sachrameev5w@chro...|\n",
            "|   Hermina|hruddick72@flickr...|\n",
            "|      Anet|achristoffe7t@big...|\n",
            "|     Licha|lwelland9r@chron.com|\n",
            "|      Hewe|  hrovedj@flavors.me|\n",
            "|    Samson|shrinchenkoez@how...|\n",
            "|   Teodora|tstennardg8@chron...|\n",
            "|     Josey|   jmedlerhr@hud.gov|\n",
            "|       Gun|gbickstethr7@admi...|\n",
            "+----------+--------------------+\n",
            "\n"
          ]
        }
      ],
      "execution_count": 46
    },
    {
      "cell_type": "markdown",
      "source": [
        "<b> What is the last name of the employee with the email address that ends with the domain '.com'?"
      ],
      "metadata": {
        "application/vnd.databricks.v1+cell": {
          "showTitle": false,
          "cellMetadata": {},
          "nuid": "6d421b46-cb8c-42a7-b985-c27799c002c9",
          "inputWidgets": {},
          "title": ""
        },
        "id": "r_VV0KxGniUv"
      }
    },
    {
      "cell_type": "code",
      "source": [
        "# Write your code using the Spark Function\n",
        "\n",
        "df7 = df.filter(col(\"email\").contains(\".com\")).select(\"last_name\",\"email\")\n",
        "df7.show()"
      ],
      "metadata": {
        "application/vnd.databricks.v1+cell": {
          "showTitle": false,
          "cellMetadata": {},
          "nuid": "69c41384-df21-4b17-9f39-f2706192b8af",
          "inputWidgets": {},
          "title": ""
        },
        "colab": {
          "base_uri": "https://localhost:8080/"
        },
        "id": "bPYq3UpLniUv",
        "outputId": "0264a5cf-6c96-4a69-b648-d33986bb40aa"
      },
      "outputs": [
        {
          "output_type": "stream",
          "name": "stdout",
          "text": [
            "+-----------+--------------------+\n",
            "|  last_name|               email|\n",
            "+-----------+--------------------+\n",
            "|     Ingley|vingley0@livejour...|\n",
            "|      Hurll| lhurll1@answers.com|\n",
            "|      Train|   mtrain2@imgur.com|\n",
            "|       Foss|dfoss3@dagondesig...|\n",
            "|     Antony| bantony5@sfgate.com|\n",
            "|     Cardus|ecardus6@scientif...|\n",
            "|    Lippett| alippett7@nifty.com|\n",
            "|  Sickamore|ssickamore8@faceb...|\n",
            "|     Altree|paltree9@dropbox.com|\n",
            "|      Richt|   crichta@sogou.com|\n",
            "|   Jelliman|hjellimane@histat...|\n",
            "|    Aughtie|    caughtiej@vk.com|\n",
            "|      Conry|bconryl@examiner.com|\n",
            "|      Orniz|eornizm@moonfruit...|\n",
            "|     Fronks|sfronksn@economis...|\n",
            "|Maffioletti|emaffiolettip@pos...|\n",
            "|  Jodlowski|ljodlowskiq@addto...|\n",
            "|  Yuranovev|byuranovevu@blogt...|\n",
            "|     Formby|mformbyv@macromed...|\n",
            "| Brauninger|pbrauningerw@wire...|\n",
            "+-----------+--------------------+\n",
            "only showing top 20 rows\n",
            "\n"
          ]
        }
      ],
      "execution_count": 48
    },
    {
      "cell_type": "markdown",
      "source": [
        "<b> How many employees have an email address that contains their last name?"
      ],
      "metadata": {
        "application/vnd.databricks.v1+cell": {
          "showTitle": false,
          "cellMetadata": {},
          "nuid": "a11d88ea-de35-4d7e-bf61-64039a67ca9b",
          "inputWidgets": {},
          "title": ""
        },
        "id": "FxfcT69HniUv"
      }
    },
    {
      "cell_type": "code",
      "source": [
        "# Write your code using the Spark Function\n",
        "\n",
        "# employees with email address that contains name\n",
        "# we have to use lower in last name in order to match with the email as the first letter is in Capital\n",
        "df8 = df.filter(col(\"email\").contains(lower(col(\"last_name\")))).select(\"last_name\",\"email\")\n",
        "df8.show()"
      ],
      "metadata": {
        "application/vnd.databricks.v1+cell": {
          "showTitle": false,
          "cellMetadata": {},
          "nuid": "039be24c-ad66-40d3-9673-2e1b1654a4b2",
          "inputWidgets": {},
          "title": ""
        },
        "colab": {
          "base_uri": "https://localhost:8080/"
        },
        "id": "EcaqeMsRniUv",
        "outputId": "c4d1c7b7-1379-488e-c75d-aff166b905a8"
      },
      "outputs": [
        {
          "output_type": "stream",
          "name": "stdout",
          "text": [
            "+---------+--------------------+\n",
            "|last_name|               email|\n",
            "+---------+--------------------+\n",
            "|   Ingley|vingley0@livejour...|\n",
            "|    Hurll| lhurll1@answers.com|\n",
            "|    Train|   mtrain2@imgur.com|\n",
            "|     Foss|dfoss3@dagondesig...|\n",
            "|  Dunklee| adunklee4@google.de|\n",
            "|   Antony| bantony5@sfgate.com|\n",
            "|   Cardus|ecardus6@scientif...|\n",
            "|  Lippett| alippett7@nifty.com|\n",
            "|Sickamore|ssickamore8@faceb...|\n",
            "|   Altree|paltree9@dropbox.com|\n",
            "|    Richt|   crichta@sogou.com|\n",
            "|  Scimoni|gscimonib@craigsl...|\n",
            "|  Iorizzo|liorizzoc@cpanel.net|\n",
            "|    Mogra|   dmograd@bbc.co.uk|\n",
            "| Jelliman|hjellimane@histat...|\n",
            "|   Burnep|    jburnepf@php.net|\n",
            "|   Fownes|gfownesg@redcross...|\n",
            "|Schruyers|lschruyersh@desde...|\n",
            "|Chatelain| mchatelaini@unc.edu|\n",
            "|  Aughtie|    caughtiej@vk.com|\n",
            "+---------+--------------------+\n",
            "only showing top 20 rows\n",
            "\n"
          ]
        }
      ],
      "execution_count": 54
    },
    {
      "cell_type": "markdown",
      "source": [
        "<b> What is the email of the employee with the first name that contains a space character?"
      ],
      "metadata": {
        "application/vnd.databricks.v1+cell": {
          "showTitle": false,
          "cellMetadata": {},
          "nuid": "bb4d84da-acf9-4569-b92a-c4f5b15af598",
          "inputWidgets": {},
          "title": ""
        },
        "id": "UWiJfo1gniUv"
      }
    },
    {
      "cell_type": "code",
      "source": [
        "# Write your code using the Spark Function\n",
        "\n",
        "df9 = df.filter(col(\"first_name\").contains(\" \")).select(\"first_name\",\"email\")\n",
        "df9.show()"
      ],
      "metadata": {
        "application/vnd.databricks.v1+cell": {
          "showTitle": false,
          "cellMetadata": {},
          "nuid": "15524a1b-ff80-4bdb-aa68-a33535ff01e2",
          "inputWidgets": {},
          "title": ""
        },
        "colab": {
          "base_uri": "https://localhost:8080/"
        },
        "id": "6-65JEALniUw",
        "outputId": "97fe02d7-aed9-429a-e5c7-803508056b10"
      },
      "outputs": [
        {
          "output_type": "stream",
          "name": "stdout",
          "text": [
            "+----------+-----+\n",
            "|first_name|email|\n",
            "+----------+-----+\n",
            "|    Jo ann| NULL|\n",
            "+----------+-----+\n",
            "\n"
          ]
        }
      ],
      "execution_count": 58
    },
    {
      "cell_type": "markdown",
      "source": [
        "<b> What is the email of the employee with the last name that contains a hyphen character?"
      ],
      "metadata": {
        "application/vnd.databricks.v1+cell": {
          "showTitle": false,
          "cellMetadata": {},
          "nuid": "034bbac0-3f1c-4aef-ba04-3f30b2851746",
          "inputWidgets": {},
          "title": ""
        },
        "id": "pOiWZYJ7niUw"
      }
    },
    {
      "cell_type": "code",
      "source": [
        "# Write your code using the Spark Function\n",
        "\n",
        "df10 = df.filter(col(\"last_name\").contains(\"-\")).select(\"last_name\",\"email\")\n",
        "df10.show()"
      ],
      "metadata": {
        "application/vnd.databricks.v1+cell": {
          "showTitle": false,
          "cellMetadata": {},
          "nuid": "d7726458-0987-453c-b3d6-48389fd738df",
          "inputWidgets": {},
          "title": ""
        },
        "colab": {
          "base_uri": "https://localhost:8080/"
        },
        "id": "dp_ocj6fniUx",
        "outputId": "f62e7d3b-6c7d-4c77-c923-e0da3017bae9"
      },
      "outputs": [
        {
          "output_type": "stream",
          "name": "stdout",
          "text": [
            "+---------------+--------------------+\n",
            "|      last_name|               email|\n",
            "+---------------+--------------------+\n",
            "|Lambert-Ciorwyn|llambertciorwyn3d...|\n",
            "+---------------+--------------------+\n",
            "\n"
          ]
        }
      ],
      "execution_count": 59
    },
    {
      "cell_type": "code",
      "source": [],
      "metadata": {
        "id": "Mu92jU7042Yi"
      },
      "execution_count": null,
      "outputs": []
    }
  ],
  "metadata": {
    "application/vnd.databricks.v1+notebook": {
      "notebookName": "Databircks-Assignemnt3 (Basic String Manupulation Transformation)",
      "dashboards": [],
      "notebookMetadata": {
        "pythonIndentUnit": 2
      },
      "language": "python",
      "widgets": {},
      "notebookOrigID": 534745604295385
    },
    "colab": {
      "provenance": [],
      "include_colab_link": true
    },
    "language_info": {
      "name": "python"
    },
    "kernelspec": {
      "name": "python3",
      "display_name": "Python 3"
    }
  },
  "nbformat": 4,
  "nbformat_minor": 0
}