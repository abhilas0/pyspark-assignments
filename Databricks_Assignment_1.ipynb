{
  "cells": [
    {
      "cell_type": "markdown",
      "metadata": {
        "id": "view-in-github",
        "colab_type": "text"
      },
      "source": [
        "<a href=\"https://colab.research.google.com/github/abhilas0/pyspark-assignments/blob/main/Databricks_Assignment_1.ipynb\" target=\"_parent\"><img src=\"https://colab.research.google.com/assets/colab-badge.svg\" alt=\"Open In Colab\"/></a>"
      ]
    },
    {
      "cell_type": "markdown",
      "metadata": {
        "application/vnd.databricks.v1+cell": {
          "cellMetadata": {
            "byteLimit": 2048000,
            "rowLimit": 10000
          },
          "inputWidgets": {},
          "nuid": "07f82699-b3da-4b5b-8fbd-2d00aa7a6b17",
          "showTitle": false,
          "title": ""
        },
        "id": "doexPOq1f-dB"
      },
      "source": [
        "<span style=\"color:blue\">\n",
        " <h2> Databricks-Assignemnt 1: Pyspark Basics\n",
        "</span>\n",
        "  <h5>\n",
        "    <span style=\"color:red\">\n",
        "<b>Author: Deepak Goyal <br>\n",
        "   <a> adeus.azurelib.com </a><br>\n",
        "   Email at: admin@azurelib.com\n",
        "</span>"
      ]
    },
    {
      "cell_type": "code",
      "source": [
        "from google.colab import drive\n",
        "drive.mount('/content/drive')"
      ],
      "metadata": {
        "colab": {
          "base_uri": "https://localhost:8080/"
        },
        "id": "tOEo-4I3gMJD",
        "outputId": "a23d2e44-579b-462d-81ba-c27b25c28b7b"
      },
      "execution_count": 1,
      "outputs": [
        {
          "output_type": "stream",
          "name": "stdout",
          "text": [
            "Mounted at /content/drive\n"
          ]
        }
      ]
    },
    {
      "cell_type": "code",
      "source": [
        "# prompt: install pyspark\n",
        "\n",
        "!pip install pyspark\n"
      ],
      "metadata": {
        "id": "HQJ6oLU67O17"
      },
      "execution_count": null,
      "outputs": []
    },
    {
      "cell_type": "code",
      "source": [
        "# prompt: start spark session\n",
        "\n",
        "from pyspark.sql import SparkSession\n",
        "\n",
        "spark = SparkSession.builder.appName(\"MyApp\").getOrCreate()\n"
      ],
      "metadata": {
        "id": "uDHwyt-z7TCw"
      },
      "execution_count": null,
      "outputs": []
    },
    {
      "cell_type": "code",
      "execution_count": 59,
      "metadata": {
        "application/vnd.databricks.v1+cell": {
          "cellMetadata": {
            "byteLimit": 2048000,
            "rowLimit": 10000
          },
          "inputWidgets": {},
          "nuid": "87a14906-169b-4060-b4c4-d0b24e05ba86",
          "showTitle": false,
          "title": ""
        },
        "colab": {
          "base_uri": "https://localhost:8080/"
        },
        "id": "arAidruXf-dD",
        "outputId": "cc914f8b-5180-450c-837a-49fa37a32599"
      },
      "outputs": [
        {
          "output_type": "stream",
          "name": "stdout",
          "text": [
            "+--------------------+----------+---------------+------------+-------------+---------+---------+---------+--------+------------+----------+-----------+\n",
            "|              Region|   Country|       ItemType|SalesChannel|OrderPriority|  OrderID|UnitsSold|UnitPrice|UnitCost|TotalRevenue| TotalCost|TotalProfit|\n",
            "+--------------------+----------+---------------+------------+-------------+---------+---------+---------+--------+------------+----------+-----------+\n",
            "|Middle East and N...|     Libya|      Cosmetics|     Offline|            M|686800706|     8446|    437.2|  263.33|   3692591.2|2224085.18| 1468506.02|\n",
            "|       North America|    Canada|     Vegetables|      Online|            M|185941302|     3018|   154.06|   90.93|   464953.08| 274426.74|  190526.34|\n",
            "|Middle East and N...|     Libya|      Baby Food|     Offline|            C|246222341|     1517|   255.28|  159.42|   387259.76| 241840.14|  145419.62|\n",
            "|                Asia|     Japan|         Cereal|     Offline|            C|161442649|     3322|    205.7|  117.11|    683335.4| 389039.42|  294295.98|\n",
            "|  Sub-Saharan Africa|      Chad|         Fruits|     Offline|            H|645713555|     9845|     9.33|    6.92|    91853.85|   68127.4|   23726.45|\n",
            "|              Europe|   Armenia|         Cereal|      Online|            H|683458888|     9528|    205.7|  117.11|   1959909.6|1115824.08|  844085.52|\n",
            "|  Sub-Saharan Africa|   Eritrea|         Cereal|      Online|            H|679414975|     2844|    205.7|  117.11|    585010.8| 333060.84|  251949.96|\n",
            "|              Europe|Montenegro|        Clothes|     Offline|            M|208630645|     7299|   109.28|   35.84|   797634.72| 261596.16|  536038.56|\n",
            "|Central America a...|   Jamaica|     Vegetables|      Online|            H|266467225|     2428|   154.06|   90.93|   374057.68| 220778.04|  153279.64|\n",
            "|Australia and Oce...|      Fiji|     Vegetables|     Offline|            H|118598544|     4800|   154.06|   90.93|    739488.0|  436464.0|   303024.0|\n",
            "|  Sub-Saharan Africa|      Togo|        Clothes|      Online|            M|451010930|     3012|   109.28|   35.84|   329151.36| 107950.08|  221201.28|\n",
            "|              Europe|Montenegro|         Snacks|     Offline|            M|220003211|     2694|   152.58|   97.44|   411050.52| 262503.36|  148547.16|\n",
            "|              Europe|    Greece|      Household|      Online|            C|702186715|     1508|   668.27|  502.54|  1007751.16| 757830.32|  249920.84|\n",
            "|  Sub-Saharan Africa|     Sudan|      Cosmetics|      Online|            C|544485270|     4146|    437.2|  263.33|   1812631.2|1091766.18|  720865.02|\n",
            "|                Asia|  Maldives|         Fruits|     Offline|            L|714135205|     7332|     9.33|    6.92|    68407.56|  50737.44|   17670.12|\n",
            "|              Europe|Montenegro|        Clothes|     Offline|            H|448685348|     4820|   109.28|   35.84|    526729.6|  172748.8|   353980.8|\n",
            "|              Europe|   Estonia|Office Supplies|      Online|            H|405997025|     2397|   651.21|  524.96|  1560950.37|1258329.12|  302621.25|\n",
            "|       North America| Greenland|      Beverages|      Online|            M|414244067|     2880|    47.45|   31.79|    136656.0|   91555.2|    45100.8|\n",
            "|  Sub-Saharan Africa|Cape Verde|        Clothes|      Online|            C|821912801|     1117|   109.28|   35.84|   122065.76|  40033.28|   82032.48|\n",
            "|  Sub-Saharan Africa|   Senegal|      Household|     Offline|            L|247802054|     8989|   668.27|  502.54|  6007079.03|4517332.06| 1489746.97|\n",
            "+--------------------+----------+---------------+------------+-------------+---------+---------+---------+--------+------------+----------+-----------+\n",
            "only showing top 20 rows\n",
            "\n"
          ]
        }
      ],
      "source": [
        "#Import the data\n",
        "from pyspark.sql.functions import*\n",
        "df = spark.read.csv(\"/content/drive/MyDrive/DE Data/Orders.csv\", header = True,inferSchema= True)\n",
        "df.show()\n"
      ]
    },
    {
      "cell_type": "markdown",
      "metadata": {
        "application/vnd.databricks.v1+cell": {
          "cellMetadata": {
            "byteLimit": 2048000,
            "rowLimit": 10000
          },
          "inputWidgets": {},
          "nuid": "d437abe5-35db-48e5-af01-df4d406a033e",
          "showTitle": false,
          "title": ""
        },
        "id": "Bq5cFMR4f-dE"
      },
      "source": [
        "## Question 1\n",
        "Select only the 'OrderID', 'Region', and 'TotalRevenue' columns from the dataset."
      ]
    },
    {
      "cell_type": "code",
      "execution_count": 31,
      "metadata": {
        "application/vnd.databricks.v1+cell": {
          "cellMetadata": {
            "byteLimit": 2048000,
            "rowLimit": 10000
          },
          "inputWidgets": {},
          "nuid": "5ac0d99b-80b5-4b58-a0f8-9ac537a8cc79",
          "showTitle": false,
          "title": ""
        },
        "colab": {
          "base_uri": "https://localhost:8080/"
        },
        "id": "i-qInG3Ff-dE",
        "outputId": "35996f4c-3afc-4c2a-989e-0db14ea33826"
      },
      "outputs": [
        {
          "output_type": "stream",
          "name": "stdout",
          "text": [
            "+---------+--------------------+------------+\n",
            "|  OrderID|              Region|TotalRevenue|\n",
            "+---------+--------------------+------------+\n",
            "|686800706|Middle East and N...|   3692591.2|\n",
            "|185941302|       North America|   464953.08|\n",
            "|246222341|Middle East and N...|   387259.76|\n",
            "|161442649|                Asia|    683335.4|\n",
            "|645713555|  Sub-Saharan Africa|    91853.85|\n",
            "|683458888|              Europe|   1959909.6|\n",
            "|679414975|  Sub-Saharan Africa|    585010.8|\n",
            "|208630645|              Europe|   797634.72|\n",
            "|266467225|Central America a...|   374057.68|\n",
            "|118598544|Australia and Oce...|    739488.0|\n",
            "|451010930|  Sub-Saharan Africa|   329151.36|\n",
            "|220003211|              Europe|   411050.52|\n",
            "|702186715|              Europe|  1007751.16|\n",
            "|544485270|  Sub-Saharan Africa|   1812631.2|\n",
            "|714135205|                Asia|    68407.56|\n",
            "|448685348|              Europe|    526729.6|\n",
            "|405997025|              Europe|  1560950.37|\n",
            "|414244067|       North America|    136656.0|\n",
            "|821912801|  Sub-Saharan Africa|   122065.76|\n",
            "|247802054|  Sub-Saharan Africa|  6007079.03|\n",
            "+---------+--------------------+------------+\n",
            "only showing top 20 rows\n",
            "\n"
          ]
        }
      ],
      "source": [
        "# Your code here\n",
        "df2= df.select('OrderID','Region','TotalRevenue')\n",
        "df2.show()\n",
        "\n"
      ]
    },
    {
      "cell_type": "markdown",
      "metadata": {
        "application/vnd.databricks.v1+cell": {
          "cellMetadata": {
            "byteLimit": 2048000,
            "rowLimit": 10000
          },
          "inputWidgets": {},
          "nuid": "7299daf5-70ac-46e2-abec-4bfc83c97b61",
          "showTitle": false,
          "title": ""
        },
        "id": "11eWJyCbf-dE"
      },
      "source": [
        "## Question 2\n",
        "Find all orders from the 'Europe' region with a total revenue greater than $500,000."
      ]
    },
    {
      "cell_type": "code",
      "execution_count": 28,
      "metadata": {
        "application/vnd.databricks.v1+cell": {
          "cellMetadata": {
            "byteLimit": 2048000,
            "rowLimit": 10000
          },
          "inputWidgets": {},
          "nuid": "00560698-0f5c-49b5-822a-d046dee65cae",
          "showTitle": false,
          "title": ""
        },
        "colab": {
          "base_uri": "https://localhost:8080/"
        },
        "id": "RG2JYeEpf-dF",
        "outputId": "af8e3daa-1642-4e41-c0be-919af7b8a287"
      },
      "outputs": [
        {
          "output_type": "stream",
          "name": "stdout",
          "text": [
            "+------+---------+------------+\n",
            "|Region|  OrderID|TotalRevenue|\n",
            "+------+---------+------------+\n",
            "|Europe|683458888|   1959909.6|\n",
            "|Europe|208630645|   797634.72|\n",
            "|Europe|702186715|  1007751.16|\n",
            "|Europe|448685348|    526729.6|\n",
            "|Europe|405997025|  1560950.37|\n",
            "|Europe|880999934|   689884.64|\n",
            "|Europe|294499957|  2026157.36|\n",
            "|Europe|689975583|  2032794.64|\n",
            "|Europe|759279143|  4184675.46|\n",
            "|Europe|489148938|  3753133.44|\n",
            "|Europe|876286971|  1097967.61|\n",
            "|Europe|270001733|   3658489.6|\n",
            "|Europe|812295901|  3427318.23|\n",
            "|Europe|535654580|   617998.29|\n",
            "|Europe|810871112|  2367799.56|\n",
            "|Europe|285341823|  5106137.61|\n",
            "|Europe|817740142|   1617198.8|\n",
            "|Europe|947434604|   894780.48|\n",
            "|Europe|869397771|  1255122.75|\n",
            "|Europe|350274455|   1855948.5|\n",
            "+------+---------+------------+\n",
            "only showing top 20 rows\n",
            "\n"
          ]
        }
      ],
      "source": [
        "# Your code here\n",
        "df3 = df.filter((df[\"Region\"] == \"Europe\") & (df[\"TotalRevenue\"] > 500000)).select ('Region','OrderID','TotalRevenue')\n",
        "df3.show()"
      ]
    },
    {
      "cell_type": "markdown",
      "metadata": {
        "application/vnd.databricks.v1+cell": {
          "cellMetadata": {
            "byteLimit": 2048000,
            "rowLimit": 10000
          },
          "inputWidgets": {},
          "nuid": "7a48e230-adaf-4196-bab4-8a40974dea8c",
          "showTitle": false,
          "title": ""
        },
        "id": "-9Qd9Vhkf-dF"
      },
      "source": [
        "## Question 3\n",
        "List the distinct item types sold in the 'Middle East and North Africa' region."
      ]
    },
    {
      "cell_type": "code",
      "execution_count": 30,
      "metadata": {
        "application/vnd.databricks.v1+cell": {
          "cellMetadata": {
            "byteLimit": 2048000,
            "rowLimit": 10000
          },
          "inputWidgets": {},
          "nuid": "fb1fa022-b2a5-4406-b707-b5b571e9e5c4",
          "showTitle": false,
          "title": ""
        },
        "colab": {
          "base_uri": "https://localhost:8080/"
        },
        "id": "KTAhEEZNf-dF",
        "outputId": "711cbcee-c98a-4c2f-fafe-2c97847f40d8"
      },
      "outputs": [
        {
          "output_type": "stream",
          "name": "stdout",
          "text": [
            "+---------------+\n",
            "|       ItemType|\n",
            "+---------------+\n",
            "|      Baby Food|\n",
            "|         Cereal|\n",
            "|           Meat|\n",
            "|      Household|\n",
            "|     Vegetables|\n",
            "|      Beverages|\n",
            "|Office Supplies|\n",
            "|      Cosmetics|\n",
            "|  Personal Care|\n",
            "|         Fruits|\n",
            "|         Snacks|\n",
            "|        Clothes|\n",
            "+---------------+\n",
            "\n"
          ]
        }
      ],
      "source": [
        "# Your code here\n",
        "df4= df.filter(df[\"Region\"] == \"Middle East and North Africa\").select('ItemType').distinct()\n",
        "df4.show()"
      ]
    },
    {
      "cell_type": "markdown",
      "metadata": {
        "application/vnd.databricks.v1+cell": {
          "cellMetadata": {
            "byteLimit": 2048000,
            "rowLimit": 10000
          },
          "inputWidgets": {},
          "nuid": "f0ecced7-19fa-4b57-afcf-d39688f6eb28",
          "showTitle": false,
          "title": ""
        },
        "id": "ETkhrnhGf-dG"
      },
      "source": [
        "## Question 4\n",
        "Select orders that are either 'High' priority or have a total profit greater than $100,000."
      ]
    },
    {
      "cell_type": "code",
      "execution_count": 23,
      "metadata": {
        "application/vnd.databricks.v1+cell": {
          "cellMetadata": {
            "byteLimit": 2048000,
            "rowLimit": 10000
          },
          "inputWidgets": {},
          "nuid": "f3d3bc13-5a6c-405a-a539-4cf89e40486d",
          "showTitle": false,
          "title": ""
        },
        "colab": {
          "base_uri": "https://localhost:8080/"
        },
        "id": "laik9P5jf-dG",
        "outputId": "e687c8f5-61b6-4de1-e5de-7e12eb03ee09"
      },
      "outputs": [
        {
          "output_type": "stream",
          "name": "stdout",
          "text": [
            "+--------------------+----------+---------------+------------+-------------+---------+---------+---------+--------+------------+----------+-----------+\n",
            "|              Region|   Country|       ItemType|SalesChannel|OrderPriority|  OrderID|UnitsSold|UnitPrice|UnitCost|TotalRevenue| TotalCost|TotalProfit|\n",
            "+--------------------+----------+---------------+------------+-------------+---------+---------+---------+--------+------------+----------+-----------+\n",
            "|Middle East and N...|     Libya|      Cosmetics|     Offline|            M|686800706|     8446|    437.2|  263.33|   3692591.2|2224085.18| 1468506.02|\n",
            "|       North America|    Canada|     Vegetables|      Online|            M|185941302|     3018|   154.06|   90.93|   464953.08| 274426.74|  190526.34|\n",
            "|Middle East and N...|     Libya|      Baby Food|     Offline|            C|246222341|     1517|   255.28|  159.42|   387259.76| 241840.14|  145419.62|\n",
            "|                Asia|     Japan|         Cereal|     Offline|            C|161442649|     3322|    205.7|  117.11|    683335.4| 389039.42|  294295.98|\n",
            "|              Europe|   Armenia|         Cereal|      Online|            H|683458888|     9528|    205.7|  117.11|   1959909.6|1115824.08|  844085.52|\n",
            "|  Sub-Saharan Africa|   Eritrea|         Cereal|      Online|            H|679414975|     2844|    205.7|  117.11|    585010.8| 333060.84|  251949.96|\n",
            "|              Europe|Montenegro|        Clothes|     Offline|            M|208630645|     7299|   109.28|   35.84|   797634.72| 261596.16|  536038.56|\n",
            "|Central America a...|   Jamaica|     Vegetables|      Online|            H|266467225|     2428|   154.06|   90.93|   374057.68| 220778.04|  153279.64|\n",
            "|Australia and Oce...|      Fiji|     Vegetables|     Offline|            H|118598544|     4800|   154.06|   90.93|    739488.0|  436464.0|   303024.0|\n",
            "|  Sub-Saharan Africa|      Togo|        Clothes|      Online|            M|451010930|     3012|   109.28|   35.84|   329151.36| 107950.08|  221201.28|\n",
            "|              Europe|Montenegro|         Snacks|     Offline|            M|220003211|     2694|   152.58|   97.44|   411050.52| 262503.36|  148547.16|\n",
            "|              Europe|    Greece|      Household|      Online|            C|702186715|     1508|   668.27|  502.54|  1007751.16| 757830.32|  249920.84|\n",
            "|  Sub-Saharan Africa|     Sudan|      Cosmetics|      Online|            C|544485270|     4146|    437.2|  263.33|   1812631.2|1091766.18|  720865.02|\n",
            "|              Europe|Montenegro|        Clothes|     Offline|            H|448685348|     4820|   109.28|   35.84|    526729.6|  172748.8|   353980.8|\n",
            "|              Europe|   Estonia|Office Supplies|      Online|            H|405997025|     2397|   651.21|  524.96|  1560950.37|1258329.12|  302621.25|\n",
            "|  Sub-Saharan Africa|   Senegal|      Household|     Offline|            L|247802054|     8989|   668.27|  502.54|  6007079.03|4517332.06| 1489746.97|\n",
            "|              Europe|  Bulgaria|        Clothes|      Online|            L|880999934|     6313|   109.28|   35.84|   689884.64| 226257.92|  463626.72|\n",
            "|Middle East and N...|   Algeria|  Personal Care|      Online|            H|127468717|     9681|    81.73|   56.67|   791228.13| 548622.27|  242605.86|\n",
            "|Central America a...|   Grenada|      Beverages|      Online|            M|397877871|     9759|    47.45|   31.79|   463064.55| 310238.61|  152825.94|\n",
            "|  Sub-Saharan Africa|   Senegal|      Beverages|     Offline|            M|683927953|     8334|    47.45|   31.79|    395448.3| 264937.86|  130510.44|\n",
            "+--------------------+----------+---------------+------------+-------------+---------+---------+---------+--------+------------+----------+-----------+\n",
            "only showing top 20 rows\n",
            "\n"
          ]
        }
      ],
      "source": [
        "# Your code here\n",
        "df5 = df.filter((df[\"OrderPriority\"] == \"High\") | (df[\"TotalProfit\"] > 100000))\n",
        "df5.show()"
      ]
    },
    {
      "cell_type": "markdown",
      "metadata": {
        "application/vnd.databricks.v1+cell": {
          "cellMetadata": {
            "byteLimit": 2048000,
            "rowLimit": 10000
          },
          "inputWidgets": {},
          "nuid": "692b119b-faf1-4f05-8d97-d709277781d0",
          "showTitle": false,
          "title": ""
        },
        "id": "s0V-vllVf-dH"
      },
      "source": [
        "## Question 5\n",
        "Create a new column called 'RevenueCategory' that categorizes total revenue as 'Low' if less than $100,000, 'Medium' if between $100,000 and $500,000, and 'High' if greater than $500,000."
      ]
    },
    {
      "cell_type": "code",
      "execution_count": 25,
      "metadata": {
        "application/vnd.databricks.v1+cell": {
          "cellMetadata": {
            "byteLimit": 2048000,
            "rowLimit": 10000
          },
          "inputWidgets": {},
          "nuid": "3668eb6c-9fd0-4f5a-b314-466d86c3b1dc",
          "showTitle": false,
          "title": ""
        },
        "colab": {
          "base_uri": "https://localhost:8080/"
        },
        "id": "0vjCS6lkf-dH",
        "outputId": "d26d4673-55f3-491f-b2f2-07fb7b612b2c"
      },
      "outputs": [
        {
          "output_type": "stream",
          "name": "stdout",
          "text": [
            "+--------------------+----------+---------------+------------+-------------+---------+---------+---------+--------+------------+----------+-----------+---------------+\n",
            "|              Region|   Country|       ItemType|SalesChannel|OrderPriority|  OrderID|UnitsSold|UnitPrice|UnitCost|TotalRevenue| TotalCost|TotalProfit|RevenueCategory|\n",
            "+--------------------+----------+---------------+------------+-------------+---------+---------+---------+--------+------------+----------+-----------+---------------+\n",
            "|Middle East and N...|     Libya|      Cosmetics|     Offline|            M|686800706|     8446|    437.2|  263.33|   3692591.2|2224085.18| 1468506.02|           High|\n",
            "|       North America|    Canada|     Vegetables|      Online|            M|185941302|     3018|   154.06|   90.93|   464953.08| 274426.74|  190526.34|         Medium|\n",
            "|Middle East and N...|     Libya|      Baby Food|     Offline|            C|246222341|     1517|   255.28|  159.42|   387259.76| 241840.14|  145419.62|         Medium|\n",
            "|                Asia|     Japan|         Cereal|     Offline|            C|161442649|     3322|    205.7|  117.11|    683335.4| 389039.42|  294295.98|           High|\n",
            "|  Sub-Saharan Africa|      Chad|         Fruits|     Offline|            H|645713555|     9845|     9.33|    6.92|    91853.85|   68127.4|   23726.45|            Low|\n",
            "|              Europe|   Armenia|         Cereal|      Online|            H|683458888|     9528|    205.7|  117.11|   1959909.6|1115824.08|  844085.52|           High|\n",
            "|  Sub-Saharan Africa|   Eritrea|         Cereal|      Online|            H|679414975|     2844|    205.7|  117.11|    585010.8| 333060.84|  251949.96|           High|\n",
            "|              Europe|Montenegro|        Clothes|     Offline|            M|208630645|     7299|   109.28|   35.84|   797634.72| 261596.16|  536038.56|           High|\n",
            "|Central America a...|   Jamaica|     Vegetables|      Online|            H|266467225|     2428|   154.06|   90.93|   374057.68| 220778.04|  153279.64|         Medium|\n",
            "|Australia and Oce...|      Fiji|     Vegetables|     Offline|            H|118598544|     4800|   154.06|   90.93|    739488.0|  436464.0|   303024.0|           High|\n",
            "|  Sub-Saharan Africa|      Togo|        Clothes|      Online|            M|451010930|     3012|   109.28|   35.84|   329151.36| 107950.08|  221201.28|         Medium|\n",
            "|              Europe|Montenegro|         Snacks|     Offline|            M|220003211|     2694|   152.58|   97.44|   411050.52| 262503.36|  148547.16|         Medium|\n",
            "|              Europe|    Greece|      Household|      Online|            C|702186715|     1508|   668.27|  502.54|  1007751.16| 757830.32|  249920.84|           High|\n",
            "|  Sub-Saharan Africa|     Sudan|      Cosmetics|      Online|            C|544485270|     4146|    437.2|  263.33|   1812631.2|1091766.18|  720865.02|           High|\n",
            "|                Asia|  Maldives|         Fruits|     Offline|            L|714135205|     7332|     9.33|    6.92|    68407.56|  50737.44|   17670.12|            Low|\n",
            "|              Europe|Montenegro|        Clothes|     Offline|            H|448685348|     4820|   109.28|   35.84|    526729.6|  172748.8|   353980.8|           High|\n",
            "|              Europe|   Estonia|Office Supplies|      Online|            H|405997025|     2397|   651.21|  524.96|  1560950.37|1258329.12|  302621.25|           High|\n",
            "|       North America| Greenland|      Beverages|      Online|            M|414244067|     2880|    47.45|   31.79|    136656.0|   91555.2|    45100.8|         Medium|\n",
            "|  Sub-Saharan Africa|Cape Verde|        Clothes|      Online|            C|821912801|     1117|   109.28|   35.84|   122065.76|  40033.28|   82032.48|         Medium|\n",
            "|  Sub-Saharan Africa|   Senegal|      Household|     Offline|            L|247802054|     8989|   668.27|  502.54|  6007079.03|4517332.06| 1489746.97|           High|\n",
            "+--------------------+----------+---------------+------------+-------------+---------+---------+---------+--------+------------+----------+-----------+---------------+\n",
            "only showing top 20 rows\n",
            "\n"
          ]
        }
      ],
      "source": [
        "# Your code here\n",
        "\n",
        "df6 = df.withColumn(\"RevenueCategory\",\n",
        "                    when(df[\"TotalRevenue\"] < 100000, \"Low\")\n",
        "                    .when((df[\"TotalRevenue\"] >= 100000) & (df[\"TotalRevenue\"] < 500000), \"Medium\")\n",
        "                    .otherwise(\"High\")\n",
        "                    )\n",
        "\n",
        "df6.show()\n",
        "\n",
        "\n"
      ]
    },
    {
      "cell_type": "markdown",
      "metadata": {
        "application/vnd.databricks.v1+cell": {
          "cellMetadata": {
            "byteLimit": 2048000,
            "rowLimit": 10000
          },
          "inputWidgets": {},
          "nuid": "480586d9-60a3-4376-9c29-9a9923de564e",
          "showTitle": false,
          "title": ""
        },
        "id": "7XGdnn_Bf-dH"
      },
      "source": [
        "## Question 6\n",
        "Remove the 'UnitCost' column from the dataset and rename 'TotalRevenue' to 'Revenue'."
      ]
    },
    {
      "cell_type": "code",
      "execution_count": 34,
      "metadata": {
        "application/vnd.databricks.v1+cell": {
          "cellMetadata": {
            "byteLimit": 2048000,
            "rowLimit": 10000
          },
          "inputWidgets": {},
          "nuid": "80918b55-4fa1-494b-83ab-e6929f3d6e75",
          "showTitle": false,
          "title": ""
        },
        "colab": {
          "base_uri": "https://localhost:8080/"
        },
        "id": "IGi8dOaqf-dH",
        "outputId": "7385593b-46e9-465d-e408-340445f4340a"
      },
      "outputs": [
        {
          "output_type": "stream",
          "name": "stdout",
          "text": [
            "+--------------------+----------+---------------+------------+-------------+---------+---------+---------+----------+----------+-----------+\n",
            "|              Region|   Country|       ItemType|SalesChannel|OrderPriority|  OrderID|UnitsSold|UnitPrice|   Revenue| TotalCost|TotalProfit|\n",
            "+--------------------+----------+---------------+------------+-------------+---------+---------+---------+----------+----------+-----------+\n",
            "|Middle East and N...|     Libya|      Cosmetics|     Offline|            M|686800706|     8446|    437.2| 3692591.2|2224085.18| 1468506.02|\n",
            "|       North America|    Canada|     Vegetables|      Online|            M|185941302|     3018|   154.06| 464953.08| 274426.74|  190526.34|\n",
            "|Middle East and N...|     Libya|      Baby Food|     Offline|            C|246222341|     1517|   255.28| 387259.76| 241840.14|  145419.62|\n",
            "|                Asia|     Japan|         Cereal|     Offline|            C|161442649|     3322|    205.7|  683335.4| 389039.42|  294295.98|\n",
            "|  Sub-Saharan Africa|      Chad|         Fruits|     Offline|            H|645713555|     9845|     9.33|  91853.85|   68127.4|   23726.45|\n",
            "|              Europe|   Armenia|         Cereal|      Online|            H|683458888|     9528|    205.7| 1959909.6|1115824.08|  844085.52|\n",
            "|  Sub-Saharan Africa|   Eritrea|         Cereal|      Online|            H|679414975|     2844|    205.7|  585010.8| 333060.84|  251949.96|\n",
            "|              Europe|Montenegro|        Clothes|     Offline|            M|208630645|     7299|   109.28| 797634.72| 261596.16|  536038.56|\n",
            "|Central America a...|   Jamaica|     Vegetables|      Online|            H|266467225|     2428|   154.06| 374057.68| 220778.04|  153279.64|\n",
            "|Australia and Oce...|      Fiji|     Vegetables|     Offline|            H|118598544|     4800|   154.06|  739488.0|  436464.0|   303024.0|\n",
            "|  Sub-Saharan Africa|      Togo|        Clothes|      Online|            M|451010930|     3012|   109.28| 329151.36| 107950.08|  221201.28|\n",
            "|              Europe|Montenegro|         Snacks|     Offline|            M|220003211|     2694|   152.58| 411050.52| 262503.36|  148547.16|\n",
            "|              Europe|    Greece|      Household|      Online|            C|702186715|     1508|   668.27|1007751.16| 757830.32|  249920.84|\n",
            "|  Sub-Saharan Africa|     Sudan|      Cosmetics|      Online|            C|544485270|     4146|    437.2| 1812631.2|1091766.18|  720865.02|\n",
            "|                Asia|  Maldives|         Fruits|     Offline|            L|714135205|     7332|     9.33|  68407.56|  50737.44|   17670.12|\n",
            "|              Europe|Montenegro|        Clothes|     Offline|            H|448685348|     4820|   109.28|  526729.6|  172748.8|   353980.8|\n",
            "|              Europe|   Estonia|Office Supplies|      Online|            H|405997025|     2397|   651.21|1560950.37|1258329.12|  302621.25|\n",
            "|       North America| Greenland|      Beverages|      Online|            M|414244067|     2880|    47.45|  136656.0|   91555.2|    45100.8|\n",
            "|  Sub-Saharan Africa|Cape Verde|        Clothes|      Online|            C|821912801|     1117|   109.28| 122065.76|  40033.28|   82032.48|\n",
            "|  Sub-Saharan Africa|   Senegal|      Household|     Offline|            L|247802054|     8989|   668.27|6007079.03|4517332.06| 1489746.97|\n",
            "+--------------------+----------+---------------+------------+-------------+---------+---------+---------+----------+----------+-----------+\n",
            "only showing top 20 rows\n",
            "\n"
          ]
        }
      ],
      "source": [
        "# Your code here\n",
        "df7 = df.drop(\"UnitCost\") \\\n",
        "      .withColumnRenamed(\"TotalRevenue\",\"Revenue\")\n",
        "df7.show ()\n"
      ]
    },
    {
      "cell_type": "markdown",
      "metadata": {
        "application/vnd.databricks.v1+cell": {
          "cellMetadata": {
            "byteLimit": 2048000,
            "rowLimit": 10000
          },
          "inputWidgets": {},
          "nuid": "c2520eb8-27f9-4bc1-8059-564190beb082",
          "showTitle": false,
          "title": ""
        },
        "id": "ajlJMADKf-dH"
      },
      "source": [
        "## Question 7\n",
        "Find all orders of 'Clothes' or 'Cosmetics' that were sold through the 'Online' sales channel."
      ]
    },
    {
      "cell_type": "code",
      "execution_count": 45,
      "metadata": {
        "application/vnd.databricks.v1+cell": {
          "cellMetadata": {
            "byteLimit": 2048000,
            "rowLimit": 10000
          },
          "inputWidgets": {},
          "nuid": "719854b0-1154-4f0e-a09d-ed1ca1d608bc",
          "showTitle": false,
          "title": ""
        },
        "colab": {
          "base_uri": "https://localhost:8080/"
        },
        "id": "9hUW1Ghuf-dH",
        "outputId": "df3049d4-dd02-4f43-ca6a-6761601c3950"
      },
      "outputs": [
        {
          "output_type": "stream",
          "name": "stdout",
          "text": [
            "+--------------------+------------------+---------+------------+-------------+---------+---------+---------+--------+------------+----------+-----------+\n",
            "|              Region|           Country| ItemType|SalesChannel|OrderPriority|  OrderID|UnitsSold|UnitPrice|UnitCost|TotalRevenue| TotalCost|TotalProfit|\n",
            "+--------------------+------------------+---------+------------+-------------+---------+---------+---------+--------+------------+----------+-----------+\n",
            "|  Sub-Saharan Africa|              Togo|  Clothes|      Online|            M|451010930|     3012|   109.28|   35.84|   329151.36| 107950.08|  221201.28|\n",
            "|  Sub-Saharan Africa|             Sudan|Cosmetics|      Online|            C|544485270|     4146|    437.2|  263.33|   1812631.2|1091766.18|  720865.02|\n",
            "|  Sub-Saharan Africa|        Cape Verde|  Clothes|      Online|            C|821912801|     1117|   109.28|   35.84|   122065.76|  40033.28|   82032.48|\n",
            "|              Europe|          Bulgaria|  Clothes|      Online|            L|880999934|     6313|   109.28|   35.84|   689884.64| 226257.92|  463626.72|\n",
            "|                Asia|          Mongolia|  Clothes|      Online|            L|770478332|      515|   109.28|   35.84|     56279.2|   18457.6|    37821.6|\n",
            "|              Europe|           Ukraine|Cosmetics|      Online|            M|270001733|     8368|    437.2|  263.33|   3658489.6|2203545.44| 1454944.16|\n",
            "|  Sub-Saharan Africa|             Niger|  Clothes|      Online|            M|835054767|      117|   109.28|   35.84|    12785.76|   4193.28|    8592.48|\n",
            "|Central America a...|       Saint Lucia|Cosmetics|      Online|            C|845058763|      522|    437.2|  263.33|    228218.4| 137458.26|   90760.14|\n",
            "|              Europe|            Serbia|Cosmetics|      Online|            H|461065137|     8275|    437.2|  263.33|   3617830.0|2179055.75| 1438774.25|\n",
            "|              Europe|           Estonia|  Clothes|      Online|            C|902424991|     6463|   109.28|   35.84|   706276.64| 231633.92|  474642.72|\n",
            "|       North America|            Mexico|  Clothes|      Online|            H|654693591|     7237|   109.28|   35.84|   790859.36| 259374.08|  531485.28|\n",
            "|              Europe|          Slovakia|  Clothes|      Online|            L|782857692|     3843|   109.28|   35.84|   419963.04| 137733.12|  282229.92|\n",
            "|              Europe|          Bulgaria|  Clothes|      Online|            L|403836238|     2972|   109.28|   35.84|   324780.16| 106516.48|  218263.68|\n",
            "|  Sub-Saharan Africa|     Guinea-Bissau|  Clothes|      Online|            L|406275975|     4944|   109.28|   35.84|   540280.32| 177192.96|  363087.36|\n",
            "|              Europe|            Norway|  Clothes|      Online|            H|126767909|     2296|   109.28|   35.84|   250906.88|  82288.64|  168618.24|\n",
            "|                Asia|        Uzbekistan|  Clothes|      Online|            C|432995069|     1718|   109.28|   35.84|   187743.04|  61573.12|  126169.92|\n",
            "|              Europe|             Malta|Cosmetics|      Online|            M|225666320|     8534|    437.2|  263.33|   3731064.8|2247258.22| 1483806.58|\n",
            "|              Europe|           Hungary|Cosmetics|      Online|            M|290878760|     6344|    437.2|  263.33|   2773596.8|1670565.52| 1103031.28|\n",
            "|Central America a...|Dominican Republic|  Clothes|      Online|            H|263080346|      175|   109.28|   35.84|     19124.0|    6272.0|    12852.0|\n",
            "|  Sub-Saharan Africa|            Angola|Cosmetics|      Online|            H|125870978|     6874|    437.2|  263.33|   3005312.8|1810130.42| 1195182.38|\n",
            "+--------------------+------------------+---------+------------+-------------+---------+---------+---------+--------+------------+----------+-----------+\n",
            "only showing top 20 rows\n",
            "\n"
          ]
        }
      ],
      "source": [
        "# Your code here\n",
        "df8= df.filter(((df[\"ItemType\"] == \"Clothes\") | (df[\"ItemType\"] == \"Cosmetics\")) & (df[\"SalesChannel\"] == \"Online\"))\n",
        "df8.show()\n"
      ]
    },
    {
      "cell_type": "markdown",
      "metadata": {
        "application/vnd.databricks.v1+cell": {
          "cellMetadata": {
            "byteLimit": 2048000,
            "rowLimit": 10000
          },
          "inputWidgets": {},
          "nuid": "77c2e53c-bb83-4484-9ad4-a416cdde83c6",
          "showTitle": false,
          "title": ""
        },
        "id": "58YpyhO_f-dH"
      },
      "source": [
        "## Question 8\n",
        "Create a new column 'ProfitMargin' that calculates the percentage of profit relative to revenue (TotalProfit / TotalRevenue * 100)."
      ]
    },
    {
      "cell_type": "code",
      "execution_count": 44,
      "metadata": {
        "application/vnd.databricks.v1+cell": {
          "cellMetadata": {
            "byteLimit": 2048000,
            "rowLimit": 10000
          },
          "inputWidgets": {},
          "nuid": "df9f1871-8e20-409a-8455-a69951f5a563",
          "showTitle": false,
          "title": ""
        },
        "colab": {
          "base_uri": "https://localhost:8080/"
        },
        "id": "ihqvb-1lf-dH",
        "outputId": "2e4521de-95a0-4b11-ac28-8535fd01b2e1"
      },
      "outputs": [
        {
          "output_type": "stream",
          "name": "stdout",
          "text": [
            "+--------------------+----------+---------------+------------+-------------+---------+---------+---------+--------+------------+----------+-----------+------------------+\n",
            "|              Region|   Country|       ItemType|SalesChannel|OrderPriority|  OrderID|UnitsSold|UnitPrice|UnitCost|TotalRevenue| TotalCost|TotalProfit|      Profitmargin|\n",
            "+--------------------+----------+---------------+------------+-------------+---------+---------+---------+--------+------------+----------+-----------+------------------+\n",
            "|Middle East and N...|     Libya|      Cosmetics|     Offline|            M|686800706|     8446|    437.2|  263.33|   3692591.2|2224085.18| 1468506.02| 39.76898444647758|\n",
            "|       North America|    Canada|     Vegetables|      Online|            M|185941302|     3018|   154.06|   90.93|   464953.08| 274426.74|  190526.34| 40.97754121770738|\n",
            "|Middle East and N...|     Libya|      Baby Food|     Offline|            C|246222341|     1517|   255.28|  159.42|   387259.76| 241840.14|  145419.62| 37.55092447508618|\n",
            "|                Asia|     Japan|         Cereal|     Offline|            C|161442649|     3322|    205.7|  117.11|    683335.4| 389039.42|  294295.98| 43.06757413709285|\n",
            "|  Sub-Saharan Africa|      Chad|         Fruits|     Offline|            H|645713555|     9845|     9.33|    6.92|    91853.85|   68127.4|   23726.45|25.830653804930332|\n",
            "|              Europe|   Armenia|         Cereal|      Online|            H|683458888|     9528|    205.7|  117.11|   1959909.6|1115824.08|  844085.52| 43.06757413709285|\n",
            "|  Sub-Saharan Africa|   Eritrea|         Cereal|      Online|            H|679414975|     2844|    205.7|  117.11|    585010.8| 333060.84|  251949.96| 43.06757413709285|\n",
            "|              Europe|Montenegro|        Clothes|     Offline|            M|208630645|     7299|   109.28|   35.84|   797634.72| 261596.16|  536038.56| 67.20351390922403|\n",
            "|Central America a...|   Jamaica|     Vegetables|      Online|            H|266467225|     2428|   154.06|   90.93|   374057.68| 220778.04|  153279.64| 40.97754121770739|\n",
            "|Australia and Oce...|      Fiji|     Vegetables|     Offline|            H|118598544|     4800|   154.06|   90.93|    739488.0|  436464.0|   303024.0| 40.97754121770738|\n",
            "|  Sub-Saharan Africa|      Togo|        Clothes|      Online|            M|451010930|     3012|   109.28|   35.84|   329151.36| 107950.08|  221201.28| 67.20351390922401|\n",
            "|              Europe|Montenegro|         Snacks|     Offline|            M|220003211|     2694|   152.58|   97.44|   411050.52| 262503.36|  148547.16|36.138419189933146|\n",
            "|              Europe|    Greece|      Household|      Online|            C|702186715|     1508|   668.27|  502.54|  1007751.16| 757830.32|  249920.84|24.799856345489097|\n",
            "|  Sub-Saharan Africa|     Sudan|      Cosmetics|      Online|            C|544485270|     4146|    437.2|  263.33|   1812631.2|1091766.18|  720865.02| 39.76898444647758|\n",
            "|                Asia|  Maldives|         Fruits|     Offline|            L|714135205|     7332|     9.33|    6.92|    68407.56|  50737.44|   17670.12|25.830653804930332|\n",
            "|              Europe|Montenegro|        Clothes|     Offline|            H|448685348|     4820|   109.28|   35.84|    526729.6|  172748.8|   353980.8| 67.20351390922401|\n",
            "|              Europe|   Estonia|Office Supplies|      Online|            H|405997025|     2397|   651.21|  524.96|  1560950.37|1258329.12|  302621.25|19.386987300563565|\n",
            "|       North America| Greenland|      Beverages|      Online|            M|414244067|     2880|    47.45|   31.79|    136656.0|   91555.2|    45100.8| 33.00316122233931|\n",
            "|  Sub-Saharan Africa|Cape Verde|        Clothes|      Online|            C|821912801|     1117|   109.28|   35.84|   122065.76|  40033.28|   82032.48| 67.20351390922401|\n",
            "|  Sub-Saharan Africa|   Senegal|      Household|     Offline|            L|247802054|     8989|   668.27|  502.54|  6007079.03|4517332.06| 1489746.97|24.799856345489097|\n",
            "+--------------------+----------+---------------+------------+-------------+---------+---------+---------+--------+------------+----------+-----------+------------------+\n",
            "only showing top 20 rows\n",
            "\n"
          ]
        }
      ],
      "source": [
        "# Your code here\n",
        "df8 = df.withColumn(\"Profitmargin\",(df[\"TotalProfit\"]/df[\"TotalRevenue\"])*100)\n",
        "df8.show()"
      ]
    },
    {
      "cell_type": "markdown",
      "metadata": {
        "application/vnd.databricks.v1+cell": {
          "cellMetadata": {
            "byteLimit": 2048000,
            "rowLimit": 10000
          },
          "inputWidgets": {},
          "nuid": "9b57289f-2ec2-48a0-98c6-15ee3d507d84",
          "showTitle": false,
          "title": ""
        },
        "id": "G1nrinHMf-dH"
      },
      "source": [
        "## Question 9\n",
        "Select distinct combinations of 'Region' and 'ItemType' where the 'OrderPriority' is 'Medium' or 'High'."
      ]
    },
    {
      "cell_type": "code",
      "execution_count": 49,
      "metadata": {
        "application/vnd.databricks.v1+cell": {
          "cellMetadata": {
            "byteLimit": 2048000,
            "rowLimit": 10000
          },
          "inputWidgets": {},
          "nuid": "582b3fc1-3aee-472d-beac-ccde6b71df6a",
          "showTitle": false,
          "title": ""
        },
        "colab": {
          "base_uri": "https://localhost:8080/"
        },
        "id": "uoLf-Sbsf-dH",
        "outputId": "a5a2f9e2-cd03-4e06-bc39-d04609927762"
      },
      "outputs": [
        {
          "output_type": "stream",
          "name": "stdout",
          "text": [
            "+------------------------+\n",
            "|concat(Region, ItemType)|\n",
            "+------------------------+\n",
            "|    Central America a...|\n",
            "|       North AmericaMeat|\n",
            "|    North AmericaVege...|\n",
            "|    Middle East and N...|\n",
            "|    Sub-Saharan Afric...|\n",
            "|    Sub-Saharan Afric...|\n",
            "|         EuropeBaby Food|\n",
            "|           AsiaBeverages|\n",
            "|    Central America a...|\n",
            "|    Middle East and N...|\n",
            "|    Middle East and N...|\n",
            "|    Middle East and N...|\n",
            "|    North AmericaBaby...|\n",
            "|    Australia and Oce...|\n",
            "|          AsiaVegetables|\n",
            "|     North AmericaFruits|\n",
            "|    Central America a...|\n",
            "|    Australia and Oce...|\n",
            "|    Middle East and N...|\n",
            "|    Central America a...|\n",
            "+------------------------+\n",
            "only showing top 20 rows\n",
            "\n"
          ]
        }
      ],
      "source": [
        "# Your code here\n",
        "df9 = df.filter((df[\"OrderPriority\"] == \"M\") | (df[\"OrderPriority\"] == \"H\")).select(concat(df[\"Region\"],df[\"ItemType\"])).distinct()\n",
        "#select(concat(df[\"Region\"],df[\"ItemType\"])).distinct()\n",
        "df9.show()\n"
      ]
    },
    {
      "cell_type": "markdown",
      "metadata": {
        "application/vnd.databricks.v1+cell": {
          "cellMetadata": {
            "byteLimit": 2048000,
            "rowLimit": 10000
          },
          "inputWidgets": {},
          "nuid": "7e8dddac-7b9b-4f02-81c9-6959ef251bdc",
          "showTitle": false,
          "title": ""
        },
        "id": "iV6NAUGPf-dI"
      },
      "source": [
        "## Question 10\n",
        "Find all orders where the 'UnitPrice' is greater than the average 'UnitPrice' of all products."
      ]
    },
    {
      "cell_type": "code",
      "execution_count": 58,
      "metadata": {
        "application/vnd.databricks.v1+cell": {
          "cellMetadata": {
            "byteLimit": 2048000,
            "rowLimit": 10000
          },
          "inputWidgets": {},
          "nuid": "5779c67f-9330-4157-9238-e299f7db3b93",
          "showTitle": false,
          "title": ""
        },
        "colab": {
          "base_uri": "https://localhost:8080/"
        },
        "id": "DhTTWyhhf-dI",
        "outputId": "419fd50f-5c44-4afc-cff8-bdf17b195d26"
      },
      "outputs": [
        {
          "output_type": "stream",
          "name": "stdout",
          "text": [
            "+--------------------+-----------------+---------------+------------+-------------+---------+---------+---------+--------+------------+----------+-----------+\n",
            "|              Region|          Country|       ItemType|SalesChannel|OrderPriority|  OrderID|UnitsSold|UnitPrice|UnitCost|TotalRevenue| TotalCost|TotalProfit|\n",
            "+--------------------+-----------------+---------------+------------+-------------+---------+---------+---------+--------+------------+----------+-----------+\n",
            "|Middle East and N...|            Libya|      Cosmetics|     Offline|            M|686800706|     8446|    437.2|  263.33|   3692591.2|2224085.18| 1468506.02|\n",
            "|              Europe|           Greece|      Household|      Online|            C|702186715|     1508|   668.27|  502.54|  1007751.16| 757830.32|  249920.84|\n",
            "|  Sub-Saharan Africa|            Sudan|      Cosmetics|      Online|            C|544485270|     4146|    437.2|  263.33|   1812631.2|1091766.18|  720865.02|\n",
            "|              Europe|          Estonia|Office Supplies|      Online|            H|405997025|     2397|   651.21|  524.96|  1560950.37|1258329.12|  302621.25|\n",
            "|  Sub-Saharan Africa|          Senegal|      Household|     Offline|            L|247802054|     8989|   668.27|  502.54|  6007079.03|4517332.06| 1489746.97|\n",
            "|  Sub-Saharan Africa|             Chad|           Meat|     Offline|            H|357222878|     9043|   421.89|  364.69|  3815151.27|3297891.67|   517259.6|\n",
            "|Central America a...|         Honduras|Office Supplies|      Online|            H|499009597|     6884|   651.21|  524.96|  4482929.64|3613824.64|   869105.0|\n",
            "|  Sub-Saharan Africa|Equatorial Guinea|Office Supplies|      Online|            M|211114585|     2352|   651.21|  524.96|  1531645.92|1234705.92|   296940.0|\n",
            "|  Sub-Saharan Africa|        Swaziland|Office Supplies|     Offline|            H|405785882|     9915|   651.21|  524.96|  6456747.15| 5204978.4| 1251768.75|\n",
            "|              Europe|          Belarus|Office Supplies|      Online|            L|759279143|     6426|   651.21|  524.96|  4184675.46|3373392.96|   811282.5|\n",
            "|  Sub-Saharan Africa|    Guinea-Bissau|Office Supplies|     Offline|            C|133766114|     3221|   651.21|  524.96|  2097547.41|1690896.16|  406651.25|\n",
            "|Middle East and N...|           Turkey|           Meat|      Online|            L|681298100|      103|   421.89|  364.69|    43454.67|  37563.07|     5891.6|\n",
            "|  Sub-Saharan Africa|Equatorial Guinea|Office Supplies|     Offline|            L|901712167|     5523|   651.21|  524.96|  3596632.83|2899354.08|  697278.75|\n",
            "|              Europe|          Armenia|           Meat|      Online|            C|489148938|     8896|   421.89|  364.69|  3753133.44|3244282.24|   508851.2|\n",
            "|              Europe|           Greece|      Household|      Online|            L|876286971|     1643|   668.27|  502.54|  1097967.61| 825673.22|  272294.39|\n",
            "|                Asia|           Bhutan|           Meat|      Online|            H|726708972|     8189|   421.89|  364.69|  3454857.21|2986446.41|   468410.8|\n",
            "|              Europe|          Ukraine|      Cosmetics|      Online|            M|270001733|     8368|    437.2|  263.33|   3658489.6|2203545.44| 1454944.16|\n",
            "|                Asia|       Uzbekistan|Office Supplies|     Offline|            L|276595246|     9535|   651.21|  524.96|  6209287.35| 5005493.6| 1203793.75|\n",
            "|              Europe|            Italy|Office Supplies|      Online|            M|812295901|     5263|   651.21|  524.96|  3427318.23|2762864.48|  664453.75|\n",
            "|              Europe|         Portugal|Office Supplies|      Online|            L|535654580|      949|   651.21|  524.96|   617998.29| 498187.04|  119811.25|\n",
            "+--------------------+-----------------+---------------+------------+-------------+---------+---------+---------+--------+------------+----------+-----------+\n",
            "only showing top 20 rows\n",
            "\n"
          ]
        }
      ],
      "source": [
        "# Your code here\n",
        "average_unit_price = df.agg(avg(\"UnitPrice\")).collect()[0][0]\n",
        "df10 = df.filter(df[\"UnitPrice\"] > average_unit_price)\n",
        "df10.show()\n"
      ]
    }
  ],
  "metadata": {
    "application/vnd.databricks.v1+notebook": {
      "dashboards": [],
      "environmentMetadata": null,
      "language": "python",
      "notebookMetadata": {
        "pythonIndentUnit": 2
      },
      "notebookName": "Databricks Assignment 1",
      "widgets": {}
    },
    "kernelspec": {
      "display_name": "Python 3",
      "language": "python",
      "name": "python3"
    },
    "language_info": {
      "codemirror_mode": {
        "name": "ipython",
        "version": 3
      },
      "file_extension": ".py",
      "mimetype": "text/x-python",
      "name": "python",
      "nbconvert_exporter": "python",
      "pygments_lexer": "ipython3",
      "version": "3.8.8"
    },
    "colab": {
      "provenance": [],
      "include_colab_link": true
    }
  },
  "nbformat": 4,
  "nbformat_minor": 0
}